{
 "cells": [
  {
   "cell_type": "markdown",
   "id": "1443e017",
   "metadata": {},
   "source": [
    "---"
   ]
  },
  {
   "cell_type": "markdown",
   "id": "d15d6e61",
   "metadata": {},
   "source": [
    "<img src=\"https://github.com/Lionel-Helin-Oza/Images_Notebook/blob/main/NSI-Image.png?raw=true\" alt=\"drawing\" width=\"350\">"
   ]
  },
  {
   "cell_type": "markdown",
   "id": "aff477f4",
   "metadata": {},
   "source": [
    "# TP5.3 - La Programmation Orienté Objet (POO)\n",
    "\n",
    "Durée de l'activité proposé : 4h"
   ]
  },
  {
   "cell_type": "markdown",
   "id": "d3651f9a",
   "metadata": {},
   "source": [
    "<img src=\"https://github.com/Lionel-Helin-Oza/TP5.3---Programmation-Orient-e-Objet/blob/main/page_garde.png?raw=true\" width=\"400\">"
   ]
  },
  {
   "cell_type": "markdown",
   "id": "5032505f",
   "metadata": {},
   "source": [
    "---"
   ]
  },
  {
   "cell_type": "markdown",
   "id": "746a3eef",
   "metadata": {},
   "source": [
    "\n",
    "## Rappel de Cours : c’est quoi la programmation Orientée Objet (POO) ? \n",
    "\n",
    "Vous avez vu lors du TP précédent qu’il existait différent paradigme de programmation : événementiel, impératif et fonctionnelle par exemple. **La programmation orientée objet (POO)** est un autre type de paradigme, consistant en la définition et l’assemblage de briques logicielles appelées **« objets »**.  Ces objets peuvent interagir entre eux et cela facilite grandement la compréhension du code et sa maintenance. On oppose souvent la programmation objet à la programmation procédurale (impérative), la première étant plus \"professionnelle\" que l'autre car plus fiable et plus propre.\n",
    "\n",
    "Par le passé, un programme était une procédure logique qui récupérait des données en entrée, les traitait puis produisait des données en sortie. L'enjeu de la programmation était d'écrire la logique, pas de définir les données. La programmation orientée objet a changé la perspective : l'important, ce sont les objets à manipuler plutôt que la logique nécessaire à cette manipulation.\n",
    "\n",
    "Les **`objets`** sont très divers : des personnes (définies par leurs nom, adresse, etc.) aux bâtiments et aux étages (aux propriétés descriptibles et gérables) jusqu'aux petits widgets placés sur le bureau de votre ordinateur (comme les boutons et les barres de défilement).\n",
    "\n",
    "***Exemple :***  Si on prend le monde réel, nous sommes entourés d’objets : une chaise, une table, une voiture, etc. Ces objets forment un tout.\n",
    "- Ils possèdent des propriétés (la chaise possède 4 pieds, elle est de couleur bleue, etc.).\n",
    "- Ces objets peuvent faire des actions (la voiture peut rouler, klaxonner, etc.).\n",
    "- Ils peuvent également interagir entre eux (l’objet conducteur démarre la voiture, l’objet voiture fait tourner l’objet volant, etc.).\n",
    "\n",
    "\n",
    "La première étape consiste donc à identifier tous les objets que le programmeur veut manipuler et leurs interactions ; exercice qualifié de modélisation des données.\n",
    "\n",
    "Une fois l'objet identifié, il est conceptualisé en une **`classe d'objets`** (pensez à Platon et à l'idée de chaise qui représente toutes les chaises). Cette classe définit le type de données qu'elle contient et toute séquence logique susceptible de la manipuler. Chaque séquence logique distincte est une **`méthode`**. \n",
    "\n",
    "Les concepts et les règles utilisés en programmation orientée objet procurent les bénéfices non négligeables :\n",
    "+ Le concept de classe de données permet de définir des sous-classes d'objets de données qui partagent certaines voire toutes les caractéristiques de la classe principale. Cette propriété dite « d'héritage » contraint à une analyse poussée des données, accélère le développement et produit **un code plus précis**.\n",
    "+ Comme une classe définit uniquement les données dont elle doit s'occuper, quand une instance de cette classe (un objet) s'exécute, le code ne peut pas accéder par erreur à d'autres données du programme. Masquer les données est une spécificité qui renforce la **sécurité du système** et évite de corrompre les données par accident.\n",
    "+ La définition d'une classe est réutilisable par le programme pour lequel on l'a initialement créée, mais aussi par d'autres programmes orientés objet. Elle est donc plus facile à distribuer pour une utilisation en réseau.\n",
    "+ Le concept de classes de données permet à un programme **de créer n'importe quel type de données encore indéfini** dans le langage lui-même.\n",
    "\n",
    "Simula a été le premier langage de programmation orientée objet. Java, Python, C++, Visual Basic .NET et Ruby sont aujourd'hui les langages les plus courants.\n",
    "\n",
    "Pour aller plus loin : La POO repose sur certains principes (encapsulation, héritage, etc.) dont les détails sont présentés sur le lien suivant : \n",
    "\n",
    "> https://openclassrooms.com/fr/courses/2818931-programmez-en-oriente-objet-avec-c/2818941-introduction-a-la-programmation-orientee-objet\n",
    "\n"
   ]
  },
  {
   "cell_type": "markdown",
   "id": "9f2c3b8b",
   "metadata": {},
   "source": [
    "---"
   ]
  },
  {
   "cell_type": "markdown",
   "id": "57a1ad2c",
   "metadata": {},
   "source": [
    "## Structuration des données en Python : classes et attributs \n",
    "\n",
    "\n",
    "Python permet de créer de nouvelles structures de données, que l’on appellera **« `classe` »**. Ces structures (ou objets) vont venir s’ajouter aux structures déjà existantes de Python (liste,  dictionnaire, etc.).  La structure définie par une classe peut regrouper plusieurs composantes de natures variées. Chacune de ses composantes est appelée **`attribut`** et est dotée d’un **`nom`**. "
   ]
  },
  {
   "cell_type": "markdown",
   "id": "1ad3ad28",
   "metadata": {},
   "source": [
    "### <span style='color:Red'> 1.\tLes méthodes \n",
    "\n",
    "Dans la POO, la notion de classe est associée à la notion d’encapsulation : un programme manipulant un objet n’est pas censé accéder librement à la totalité de son contenu. La manipulation de l’objet passe donc de préférence par une interface constituée de fonctions dédiées , qui font partie de la définition de la classe et sont appelées les **`méthodes`** de cette classe. \n",
    "\n",
    "Les méthodes d’une classe servent à manipuler les objets de cette classe. Chaque appel de méthode peut recevoir des paramètres mais s’applique avant tout à un objet de la classe concernée. \n",
    "\n",
    "Une méthode peut être vue comme une fonction ordinaire, pouvant dépendre d’un nombre arbitraire de paramètres, à ceci près qu’elle doit nécessairement avoir pour premier paramètre un objet de cette classe. Une méthode ne peut donc pas avoir zéro paramètre. \n",
    "\n"
   ]
  },
  {
   "cell_type": "markdown",
   "id": "2569ea74",
   "metadata": {},
   "source": [
    "### <span style='color:Red'> 2.\tDéfinition d’une classe sous Python\n",
    "    \n",
    "On souhaite par exemple définir un **`objet`** « voiture ».  Chaque voiture pourra être définie par différentes caractéristiques sur l’on nommera « **`attributs`** » : marque, modèle, couleur, carburant. La définition des attributs dépendra bien évidemment du contexte de votre problème. \n",
    "    \n",
    "En python, nous écrirons :    \n",
    "    "
   ]
  },
  {
   "cell_type": "code",
   "execution_count": 40,
   "id": "ac01d34b",
   "metadata": {
    "scrolled": true
   },
   "outputs": [],
   "source": [
    "class Voiture: # nom de la classe\n",
    "    nb_place = 5      # attribut définie pour n’importe quel objet                                        \n",
    "                      # de la classe voiture = attribut de classe\n",
    " \n",
    "    def __init__(self,mar,mod,coul,carb) :  # définition d’une méthode init = constructeur\n",
    "                                            # attribut d’instance\n",
    "             \n",
    "            self.marque = mar                   # attribut marque\n",
    "            self.modele = mod                   # attribut modèle\n",
    "            self.couleur = coul                  # attribut couleur\n",
    "            self.carburant = carb               # attribut carburant\n",
    "    \n",
    "    def __str__(self):    \n",
    "        return \"Ma voiture est une \" + str(self.marque) + str(self.modele)\n",
    "    \n",
    "    def demarrer(self):\n",
    "        print (\"La voiture démarre\")\n"
   ]
  },
  {
   "cell_type": "markdown",
   "id": "b85d88fe",
   "metadata": {},
   "source": [
    "***Remarques***\n",
    "\n",
    "-\tle nom de la classe, ici « Voiture », commence par une majuscule.\n",
    "\n",
    "\n",
    "-\tLe reste de la définition est indenté par rapport au reste.\n",
    "\n",
    "\n",
    "-\tL’attribut de la classe nb_place n’est pas destiné à être modifié. \n",
    "\n",
    "\n",
    "-\tLe **`self`** paramètre est une référence à l'instance actuelle de la classe et est utilisé pour accéder aux variables appartenant à la classe. \n",
    "Il n'a pas besoin d'être nommé self, vous pouvez l'appeler comme vous le souhaitez, mais il doit être le premier paramètre de toute fonction de la classe:\n",
    "\n",
    "-\tLa **méthode** __`init`__ a pour premier attribut **self** et représente l’objet auquel elle s’applique. La méthode sera exécuté à chaque fois que l’on va créer un objet du type Voiture : la définition de la marque / modèle / couleur / carburant sera donc obligatoire lors de la création d’un objet de type Voiture. Elle est aussi appelée constructeur\n",
    "\n",
    "-\tDans cette méthode __`init`__, nous pouvons indiquer des valeurs par défaut. \n",
    "\n",
    "***Exemple :***  `def __init__(self,mar,mod,coul= « blanche »,carb= « diesel »)` :\n",
    "\n",
    "Si les indications de couleur et de carburant ne sont pas mentionnées lors de la création d’un objet Voiture, les indications « blanche » et « diesel » seront alors attribuées aux attributs de l’objet.\n",
    "\n",
    "-\tIl existe d’autres méthodes prédéfinies sur python : par exemple `__str__(self)`. C’est une méthode qui est appelé à chaque print d’un objet de cette classe.  Exemple ( à inclure dans la définition de la classe) : \n",
    "\n"
   ]
  },
  {
   "cell_type": "code",
   "execution_count": 41,
   "id": "a7988dc2",
   "metadata": {},
   "outputs": [],
   "source": [
    "def __str__(self):    \n",
    "   return \"Ma voiture est une \" + str(self.marque) + str(self.modele)\n"
   ]
  },
  {
   "cell_type": "markdown",
   "id": "ff1dca33",
   "metadata": {},
   "source": [
    "-\tOn peut créer d’autres méthodes pour la même classe, par exemple on pourrait imaginer la classe démarrer(), accélérer(), etc.  Par exemple : "
   ]
  },
  {
   "cell_type": "code",
   "execution_count": 42,
   "id": "f0350231",
   "metadata": {},
   "outputs": [],
   "source": [
    "def demarrer(self):\n",
    "        print (\"La voiture démarre\")\n"
   ]
  },
  {
   "cell_type": "markdown",
   "id": "24064fbd",
   "metadata": {},
   "source": [
    "### <span style='color:Red'> 3.\tCréation et appel d’un objet de la classe"
   ]
  },
  {
   "cell_type": "markdown",
   "id": "5eaa966c",
   "metadata": {},
   "source": [
    "***Exemples***"
   ]
  },
  {
   "cell_type": "code",
   "execution_count": 43,
   "id": "f506f5eb",
   "metadata": {},
   "outputs": [],
   "source": [
    "ma_voiture = Voiture(\"Peugeot\",\"2008\",\"blanche\",\"SP95\")\n",
    "\n",
    "# Création d’un objet « ma_voiture » qui sera de la classe « voiture » , \n",
    "# de marque Peugeot, de modèle 2008, de couleur blanche et utilisant du SP95 (attributs) ."
   ]
  },
  {
   "cell_type": "code",
   "execution_count": 44,
   "id": "5b23708f",
   "metadata": {},
   "outputs": [
    {
     "name": "stdout",
     "output_type": "stream",
     "text": [
      "Peugeot\n"
     ]
    }
   ],
   "source": [
    "print (ma_voiture.marque)\n",
    "\n",
    "# Affiche “Peugeot“ (on vient chercher l’attribut marque de l’objet « mavoiture ») "
   ]
  },
  {
   "cell_type": "code",
   "execution_count": 45,
   "id": "da23bfbb",
   "metadata": {},
   "outputs": [
    {
     "name": "stdout",
     "output_type": "stream",
     "text": [
      "Ma voiture est une Peugeot2008\n"
     ]
    }
   ],
   "source": [
    "print (ma_voiture)\n",
    "\n",
    "# Affiche “ Ma voiture est une Peugeot2008“ (utilise la méthode __str__  de la classe Voiture)"
   ]
  },
  {
   "cell_type": "code",
   "execution_count": 46,
   "id": "eea638dc",
   "metadata": {},
   "outputs": [],
   "source": [
    "ma_voiture.marque=\"Fiat\"\n",
    "\n",
    "# Va venir modifier l’attribut « marque » de l’objet « ma voiture ». \n",
    "# « Fiat » va venir « écraser » l’attribut « Peugeot » "
   ]
  },
  {
   "cell_type": "code",
   "execution_count": 47,
   "id": "547d0618",
   "metadata": {},
   "outputs": [
    {
     "name": "stdout",
     "output_type": "stream",
     "text": [
      "La voiture démarre\n",
      "None\n"
     ]
    }
   ],
   "source": [
    "print (ma_voiture.demarrer())\n",
    "\n",
    "# Affiche « La voiture démarre » (utilisation de la méthode « démarrer » définie dans la classe"
   ]
  },
  {
   "cell_type": "code",
   "execution_count": 49,
   "id": "0885dbf9",
   "metadata": {
    "scrolled": true
   },
   "outputs": [
    {
     "name": "stdout",
     "output_type": "stream",
     "text": [
      "5\n"
     ]
    }
   ],
   "source": [
    "print (ma_voiture.nb_place)\n",
    "\n",
    "# Affiche « 5 » ( attribut de la classe)"
   ]
  },
  {
   "cell_type": "markdown",
   "id": "073a2975",
   "metadata": {},
   "source": [
    "### <span style='color:Red'> 4.\tHéritage d'une classe\n",
    "    \n",
    "Il est possible de définir une nouvelle classe comme une extension d’une classe existante. La classe d’origine est appelée « **classe mère** » et la nouvelle classe « **classe fille** ». La classe fille possède alors tous les attributs de la classe mère, mais peut ajouter à sa définition de nouveaux attributs qui lui sont propre. La classe fille est comme un cas particulier, une **spécification**, de la classe mère. La classe même est une **généralisation** de la classe fille. \n",
    "    \n",
    "***Exemple*** : Définition d’une classe mère « Animal » et d’une classe fille « Cheval » : "
   ]
  },
  {
   "cell_type": "code",
   "execution_count": 54,
   "id": "57d0f83a",
   "metadata": {},
   "outputs": [],
   "source": [
    "# Définition de l'Ojet\n",
    "\n",
    "class Animal :         # création d'une classe mère \"Animal\"\n",
    "    type='animal'\n",
    "\n",
    "    def __init__(self,gen,age,nom) :# définition d’une méthode constructeur\n",
    "        self.genre = gen \t         # male ou femelle\n",
    "        self.age = age               # age de l'animal\n",
    "        self.nom = nom               # nom de l'animal\n",
    "\n",
    "    def __str__(self):               # définition de la méthode d'affichage\n",
    "        return str(self.nom) + \" est un \" + str(Animal.type) + \" de \" + str(self.age) + \" ans\"\n",
    "\n",
    "class Cheval(Animal) :              # création d'une classe fille \"Cheval\"\n",
    "    nourriture = 'herbivore'\n",
    "\n",
    "    def box (self,box):\n",
    "        self.box = box \t        # numéro de box ou le cheval\n",
    "\n",
    "surprise=Cheval(\"male\",10,\"Surprise\")   # création d'un objet \"surprise\" de classe Cheval, avec les caractéristiques demandées dans la définition de la classe mère.\n",
    "\n",
    "surprise.box(13)           # affectation de la valeur 13 à la variable box\n"
   ]
  },
  {
   "cell_type": "code",
   "execution_count": 55,
   "id": "1b92b7a4",
   "metadata": {},
   "outputs": [
    {
     "name": "stdout",
     "output_type": "stream",
     "text": [
      "Surprise est un animal de 10 ans\n"
     ]
    },
    {
     "data": {
      "text/plain": [
       "13"
      ]
     },
     "execution_count": 55,
     "metadata": {},
     "output_type": "execute_result"
    }
   ],
   "source": [
    "# Test des méthodes :\n",
    "\n",
    "print(surprise)\n",
    "                    # Retourne Surprise est un animal de 10 ans\n",
    "surprise.box\n",
    "                    # Retourne 13\n"
   ]
  },
  {
   "cell_type": "markdown",
   "id": "5e14e2a3",
   "metadata": {},
   "source": [
    "***Remarque***:\n",
    "\n",
    "Comme nous l’avons vu, La `__init__()` fonction est appelée automatiquement chaque fois que la classe est utilisée pour créer un nouvel objet. Lorsque vous ajoutez la `__init__()` fonction, la classe enfant n'héritera plus de la `__init__()` fonction du parent .\n",
    "\n",
    "**La `__init__()` fonction de l'enfant remplace l'héritage de la `__init__()` fonction du parent .**\n",
    "\n",
    "Pour conserver l'héritage de la `__init__()` fonction du parent , ajoutez un appel à la `__init__()` fonction du parent :\n",
    "\n",
    "***Exemple :*** \n"
   ]
  },
  {
   "cell_type": "code",
   "execution_count": null,
   "id": "955081c9",
   "metadata": {},
   "outputs": [],
   "source": [
    "class Cheval(Animal):\n",
    "    def __init__(self, gen, age,nom):\n",
    "        Animal.__init__(self, gen,age,nom)\n"
   ]
  },
  {
   "cell_type": "markdown",
   "id": "7eb73e8c",
   "metadata": {},
   "source": [
    "---"
   ]
  },
  {
   "cell_type": "markdown",
   "id": "91af951d",
   "metadata": {},
   "source": [
    "---"
   ]
  },
  {
   "cell_type": "markdown",
   "id": "9bd78032",
   "metadata": {},
   "source": [
    "## EXERCICES  "
   ]
  },
  {
   "cell_type": "markdown",
   "id": "87463cb5",
   "metadata": {},
   "source": [
    "---"
   ]
  },
  {
   "cell_type": "markdown",
   "id": "830c1467",
   "metadata": {},
   "source": [
    "### <span style='color:Blue'> Exercice 1 - Triangle Rectangle"
   ]
  },
  {
   "cell_type": "markdown",
   "id": "00db1dad",
   "metadata": {},
   "source": [
    "Ecrire une classe **`TriangleRect`** qui contiendra les attributs **`cote1`**, **`cote2`** et **`hypotenuse`**.\n",
    "\n",
    "La méthode constructeur ne prendra en paramètres que cote1 et cote2, l'attribut hypotenuse se calculera automatiquement.\n",
    "\n",
    "***Exemple d'utilisation de la classe***\n",
    "   \n",
    "`>>> mon_triangle = TriangleRect(3,4)`\n",
    "    \n",
    "`>>> mon_triangle.cote1`\n",
    "    \n",
    "`3`\n",
    "    \n",
    "`>>> mon_triangle.cote2`\n",
    "    \n",
    "`4`\n",
    "    \n",
    "`>>> mon_triangle.hypotenu\n",
    "    `\n",
    "`5.0`\n",
    "   \n",
    "    \n"
   ]
  },
  {
   "cell_type": "code",
   "execution_count": 1,
   "id": "83c2fdbf",
   "metadata": {
    "ExecuteTime": {
     "end_time": "2023-10-07T08:53:16.654802606Z",
     "start_time": "2023-10-07T08:53:16.636500262Z"
    }
   },
   "outputs": [
    {
     "name": "stdout",
     "output_type": "stream",
     "text": [
      "3\n",
      "4\n",
      "5.0\n"
     ]
    }
   ],
   "source": [
    "# Votre réponse (code) ci-dessous :\n",
    "\n",
    "from math import *\n",
    "class TriangleRect:\n",
    "\tdef __init__(self, cote1,cote2):\n",
    "\n",
    "\t\tself.cotea = cote1\n",
    "\t\tself.coteb = cote2\n",
    "\t\tself.hypotenuse = sqrt(self.cotea**2 + self.coteb**2)\n",
    "\n",
    "\tdef hypotenu(self):\n",
    "\t\treturn self.hypotenuse\n",
    "\n",
    "mon_triangle = TriangleRect(3,4)\n",
    "\n",
    "print(mon_triangle.cotea)\n",
    "print(mon_triangle.coteb)\n",
    "print(mon_triangle.hypotenu())\n",
    "\n"
   ]
  },
  {
   "cell_type": "markdown",
   "id": "fc8e24cb",
   "metadata": {},
   "source": [
    "---"
   ]
  },
  {
   "cell_type": "markdown",
   "id": "ae6eb404",
   "metadata": {},
   "source": [
    "### <span style='color:Blue'> Exercice 2 - Player"
   ]
  },
  {
   "cell_type": "markdown",
   "id": "eb8d6f36",
   "metadata": {},
   "source": [
    "Écrire une classe **`Player`** qui :\n",
    "\n",
    "- ne prendra aucun argument lors de son instanciation.\n",
    "\n",
    "\n",
    "- affectera à chaque objet créé un attribut **`energie`** valant 3 par défaut.\n",
    "\n",
    "\n",
    "- affectera à chaque objet créé un attribut **`alive`** valant True par défaut.\n",
    "\n",
    "\n",
    "- fournira à chaque objet une méthode **`blessure()`** qui diminue l'attribut energie de 1.\n",
    "\n",
    "\n",
    "- fournira à chaque objet une méthode **`soin()`** qui augmente l'attribut energie de 1.\n",
    "\n",
    "\n",
    "- si l'attribut energie passe à 0, l'attribut alive doit passer à False et ne doit plus pouvoir évoluer.\n",
    "\n",
    "***Exemple d'utilisation de la classe***\n",
    "    \n",
    "`mario = Player()`\n",
    "    \n",
    "`>>> mario.energie`\n",
    "    \n",
    "`3`\n",
    "    \n",
    "`>>> mario.soin()`\n",
    "    \n",
    "`>>> mario.energie`\n",
    "    \n",
    "`4`\n",
    "    \n",
    "`>>> mario.blessure()`\n",
    "    \n",
    "`>>> mario.blessure()`\n",
    "    \n",
    "`>>> mario.blessure()`\n",
    "    \n",
    "`>>> mario.alive`\n",
    "    \n",
    "`True`\n",
    "    \n",
    "`>>> mario.blessure()`\n",
    "    \n",
    "`>>> mario.alive`\n",
    "    \n",
    "`False`\n",
    "`>>> mario.soin()`\n",
    "    \n",
    "`>>> mario.alive`\n",
    "    \n",
    "`False`\n",
    "    \n",
    "`>>> mario.energie`\n",
    "    \n",
    "`0`\n",
    "\n",
    "    \n",
    "    \n",
    "    \n"
   ]
  },
  {
   "cell_type": "code",
   "execution_count": 2,
   "id": "acd216b7",
   "metadata": {
    "ExecuteTime": {
     "end_time": "2023-10-07T08:54:16.029655657Z",
     "start_time": "2023-10-07T08:54:15.975476414Z"
    }
   },
   "outputs": [
    {
     "name": "stdout",
     "output_type": "stream",
     "text": [
      "(2, True)\n",
      "(1, True)\n",
      "(2, True)\n"
     ]
    }
   ],
   "source": [
    "# Votre réponse (code) ci-dessous :\n",
    "\n",
    "class Player:\n",
    "\tdef __init__(self):\n",
    "\t\tself.energie = 3\n",
    "\t\tself.alive = True\n",
    "\n",
    "\tdef blessure(self):\n",
    "\t\tif self.alive:\n",
    "\t\t\tself.energie -= 1\n",
    "\t\t\tif self.energie == 0:\n",
    "\t\t\t\tself.alive = False\n",
    "\t\treturn self.energie, self.alive\n",
    "\n",
    "\tdef soin(self):\n",
    "\t\tif self.alive:\n",
    "\t\t\tself.energie += 1\n",
    "\t\treturn self.energie, self.alive\n",
    "\n",
    "mario = Player()\n",
    "print(mario.blessure())\n",
    "print(mario.blessure())\n",
    "print(mario.soin())\n",
    "\n",
    "\n"
   ]
  },
  {
   "cell_type": "markdown",
   "id": "cd73ff82",
   "metadata": {},
   "source": [
    "---"
   ]
  },
  {
   "cell_type": "markdown",
   "id": "8a6bc997",
   "metadata": {},
   "source": [
    "### <span style='color:Blue'> Exercice 3 - Chrono"
   ]
  },
  {
   "cell_type": "markdown",
   "id": "9cc7d3c4",
   "metadata": {},
   "source": [
    "1. Écrire une classe **`Chrono`** qui contiendra les attributs heures, minutes et secondes.\n",
    "\n",
    "\n",
    "2. Doter la classe d'une méthode **`affiche()`** qui fera affichera le temps t.\n",
    "\n",
    "\n",
    "3.\tDoter la classe d'une méthode **`avance(s)`** qui fera avancer le temps t de s secondes.\n",
    "\n",
    "    \n",
    "***Exemple d'utilisation de la classe***\n",
    "    \n",
    "`>>> t = Chrono(17,25,38)`\n",
    "    \n",
    "`>>> t.heures`\n",
    "    \n",
    "`17`\n",
    "    \n",
    "`>>> t.minutes`\n",
    "    \n",
    "`25`\n",
    "    \n",
    "`>>> t.secondes`\n",
    "    \n",
    "`38`\n",
    "    \n",
    "`>>> t.affiche()`\n",
    "    \n",
    "`'Il est 17 heures, 25 minutes et 38 secondes'`\n",
    "    \n",
    "`>>> t.avance(27)`\n",
    "    \n",
    "`>>> t.affiche()`\n",
    "    \n",
    "`'Il est 17 heures, 26 minutes et 5 secondes'`   \n"
   ]
  },
  {
   "cell_type": "code",
   "execution_count": 3,
   "id": "7b9e5ef9",
   "metadata": {
    "ExecuteTime": {
     "end_time": "2023-10-07T08:54:19.152728095Z",
     "start_time": "2023-10-07T08:54:19.119463683Z"
    }
   },
   "outputs": [
    {
     "name": "stdout",
     "output_type": "stream",
     "text": [
      "Il est 12 heures, 59 minutes, 57 secondes.\n",
      "Temps avancé de 55555 secondes...\n",
      "Il est 28 heures, 25 minutes, 52 secondes.\n"
     ]
    }
   ],
   "source": [
    "# Votre réponse (code) ci-dessous :\n",
    "\n",
    "class Chrono:\n",
    "\tdef __init__(self,heures,minutes,secondes):\n",
    "\t\tself.heures = heures\n",
    "\t\tself.minutes = minutes\n",
    "\t\tself.secondes = secondes\n",
    "\n",
    "\tdef affiche(self):\n",
    "\t\treturn f\"Il est {self.heures} heures, {self.minutes} minutes, {self.secondes} secondes.\"\n",
    "\n",
    "\tdef avance(self,s):\n",
    "\t\tself.secondes += s\n",
    "\t\twhile self.secondes > 59:\n",
    "\t\t\tself.secondes -= 60\n",
    "\t\t\tself.minutes += 1\n",
    "\t\t\twhile self.minutes > 59:\n",
    "\t\t\t\tself.minutes -= 60\n",
    "\t\t\t\tself.heures += 1\n",
    "\t\treturn f'Temps avancé de {s} secondes...'\n",
    "\n",
    "\n",
    "temps = Chrono(12,59,57)\n",
    "print(temps.affiche())\n",
    "print(temps.avance(55555))\n",
    "print(temps.affiche())\n",
    "\n",
    "\n",
    "\n",
    "\n"
   ]
  },
  {
   "cell_type": "markdown",
   "id": "c44ae74d",
   "metadata": {},
   "source": [
    "---"
   ]
  },
  {
   "cell_type": "markdown",
   "id": "b1623405",
   "metadata": {},
   "source": [
    "### <span style='color:Blue'> Exercice 4 - Satellite"
   ]
  },
  {
   "cell_type": "markdown",
   "id": "c2a2dbf7",
   "metadata": {},
   "source": [
    "Definissez une classe **`Satellite()`** qui permette d'instancier des objets simulant des satellites artificiels lancés dans l'espace, autour de la terre. \n",
    "\n",
    "Le constructeur de cette classe initialisera les attributs d'instance suivants, avec les valeurs par défaut indiquées :\n",
    "masse = 100, vitesse = 0.\n",
    "\n",
    "Lorsque l'on instanciera un nouvel objet Satellite(), on pourra choisir son nom, sa masse et sa vitesse.\n",
    "\n",
    "Les méthodes suivantes seront définies :\n",
    "\n",
    "- **`impulsion(force, duree)`** permettra de faire varier la vitesse du satellite. Pour savoir comment, rappelez-vous votre cours de physique : la variation de vitesse Δv subie par un objet de masse m soumis à l'action d'une force F pendant un temps t vaut : \n",
    "\n",
    "∆v=(F×t)/m\n",
    "\n",
    "*Par exemple : un satellite de 300 kg qui subit une force de 600 Newtons pendant 10 secondes voit sa vitesse augmenter (ou diminuer) de 20 m/s*. \n",
    "\n",
    "- **`affiche_vitesse()`** affichera le nom du satellite et sa vitesse courante.\n",
    "\n",
    "\n",
    "- **`energie()`** renverra au programme appelant la valeur de l'énergie cinétique du satellite. \n",
    "Rappel : l’énergie cinétique se calcule a l'aide de la formule E_c=(m×v^2)/2\n",
    "    \n",
    "    \n",
    "***Exemple d'utilisation de la classe***\n",
    "    \n",
    "`>>> s1 = Satellite('Zoé', masse =250, vitesse =10)`\n",
    "    \n",
    "`>>> s1.impulsion(500, 15)`\n",
    "    \n",
    "`>>> s1.affiche_vitesse()`\n",
    "    \n",
    "`vitesse du satellite Zoé = 40 m/s.`\n",
    "    \n",
    "`>>> print s1.energie()`\n",
    "    \n",
    "`200000`\n",
    "    \n",
    "`>>> s1.impulsion(500, 15)`\n",
    "    \n",
    "`>>> s1.affiche_vitesse()`\n",
    "    \n",
    "`vitesse du satellite Zoé = 70 m/s.`\n",
    "    \n",
    "`>>> print s1.energie()`\n",
    "    \n",
    "`612500`    \n",
    "    "
   ]
  },
  {
   "cell_type": "code",
   "execution_count": 5,
   "id": "e0c59c46",
   "metadata": {
    "ExecuteTime": {
     "end_time": "2023-10-07T08:55:05.903727900Z",
     "start_time": "2023-10-07T08:55:05.838340855Z"
    }
   },
   "outputs": [
    {
     "name": "stdout",
     "output_type": "stream",
     "text": [
      "None\n",
      "Vitesse du satellite Léandre = 30.0 m/s\n",
      "112500.0\n"
     ]
    }
   ],
   "source": [
    "# Votre réponse (code) ci-dessous :\n",
    "\n",
    "class Satellite:\n",
    "\tdef __init__(self, nom, masse, vitesse):\n",
    "\t\tself.masse = masse\n",
    "\t\tself.nom = nom\n",
    "\t\tself.vitesse = vitesse\n",
    "\n",
    "\tdef impulsion(self, force, duree):\n",
    "\t\tself.force = force\n",
    "\t\tself.duree = duree\n",
    "\t\tself.vitesse = self.force * self.duree / self.masse\n",
    "\t\n",
    "\tdef affiche_vitesse(self):\n",
    "\t\treturn f\"Vitesse du satellite {self.nom} = {self.vitesse} m/s\"\n",
    "\n",
    "\tdef energie(self):\n",
    "\t\treturn (self.masse * self.vitesse**2)/2\n",
    "\n",
    "s1 = Satellite(\"Léandre\",250,10)\n",
    "print(s1.impulsion(500,15))\n",
    "print(s1.affiche_vitesse())\n",
    "print(s1.energie())\n",
    "    "
   ]
  },
  {
   "cell_type": "markdown",
   "id": "7dc862ed",
   "metadata": {},
   "source": [
    "---"
   ]
  },
  {
   "cell_type": "markdown",
   "id": "27d5f3ae",
   "metadata": {},
   "source": [
    "### <span style='color:Blue'> Exercice 5 - Compte Bancaire   "
   ]
  },
  {
   "cell_type": "markdown",
   "id": "3bb09143",
   "metadata": {},
   "source": [
    "Définir une classe **`CompteBancaire`**, ayant pour attributs de ce compte bancaire : le **nom** du titulaire, le **solde**, le numéro de client (**idclient**). \n",
    "\n",
    "L’argument **`solde`** doit être facultatif et avoir une valeur prédéfinie à zéro. \n",
    "\n",
    "- Ecrire le constructeur de la classe\n",
    "\n",
    "\n",
    "- Ajoutez une méthode **`depot(somme)`** et **`retrait(somme)`** qui permet de modifier le solde en fonction d’un dépôt ou d’un retrait sur le compte du client. \n",
    "\n",
    "\n",
    "- Ajoutez une méthode **`__str__()`** qui montre le solde courant en indiquant le nom de la personne.\n",
    "\n",
    "\n",
    "- Tester ces méthodes.\n"
   ]
  },
  {
   "cell_type": "code",
   "execution_count": null,
   "id": "73f2dd0f",
   "metadata": {},
   "outputs": [],
   "source": [
    "# Votre réponse (code) ci-dessous :\n",
    "    \n",
    "\n",
    "    \n",
    "    \n",
    "    \n",
    "    "
   ]
  },
  {
   "cell_type": "markdown",
   "id": "50922e41",
   "metadata": {},
   "source": [
    "---"
   ]
  },
  {
   "cell_type": "markdown",
   "id": "3426eed9",
   "metadata": {},
   "source": [
    "### <span style='color:Blue'> Exercice 6 - Les Dates   \n"
   ]
  },
  {
   "cell_type": "markdown",
   "id": "8e915e84",
   "metadata": {},
   "source": [
    "Définir une classe **`Date`** pour représenter une date, avec 3 attributs : **`jour`** / **`mois`** / **`année`**.\n",
    "Mois sera définit comme un entier. \n",
    "\n",
    "- Ecrire son constructeur\n",
    "\n",
    "\n",
    "- Ajouter une méthode **`__str__`** qui renvoie une chaine de caractères de la forme «  14 Juillet 2020 ». \n",
    "Pour ceci, on pourra se servir d’un attribut de la classe sous forme d’un tableau donnant les 12 mois de l’année, et accéder à la valeur du tableau à l’aide de l’attribut mois. \n",
    "\n",
    "\n",
    "- Ajouter une méthode **`__lt__`** qui reçoit une seconde date en argument et qui permet de déterminer si une date d1 est antérieure à une date d2 en écrivant d1 < d2\n"
   ]
  },
  {
   "cell_type": "code",
   "execution_count": null,
   "id": "c4e51a73",
   "metadata": {},
   "outputs": [],
   "source": [
    "# Votre réponse (code) ci-dessous :\n",
    "\n",
    "\n",
    "\n",
    "\n",
    "\n",
    "\n"
   ]
  },
  {
   "cell_type": "markdown",
   "id": "cac3a1fb",
   "metadata": {},
   "source": [
    "---"
   ]
  },
  {
   "cell_type": "markdown",
   "id": "d49bd2eb",
   "metadata": {},
   "source": [
    "### <span style='color:Blue'> Exercice 7 - Les fractions   "
   ]
  },
  {
   "cell_type": "markdown",
   "id": "8072f8c8",
   "metadata": {},
   "source": [
    "Définir une classe **`fraction`** pour représenter un nombre rationnel. Cette classe possède deux attributs, **`num`** et **`denom`**, qui sont des entiers et désignent respectivement le numérateur et le dénominateur. On demande que le dénominateur soit plus particulièrement un entier strictement positif. \n",
    "\n",
    "- Ecrire le constructeur de cette classe. Dans ce constructeur, tester si le dénominateur est négatif et afficher un message d’erreur dans ce cas.\n",
    "\n",
    "\n",
    "- Ajouter une méthode **`__str__`** qui renvoie une chaine de caractère de la forme « 12 / 35 », ou simplement « 12 » lorsque le dénominateur vaut 1.\n",
    "\n",
    "\n",
    "- Ajouter des méthodes **`__eq__`** et **`__lt__`** qui reçoivent une deuxième fraction en argument et renvoie True si la première fraction représente respectivement un nombre égal ou un nombre strictement inférieur à la deuxième fraction. \n",
    "\n",
    "\n",
    "- Ajouter des méthodes **`__add__`** et **`__mul__`** qui reçoivent une deuxième fraction en argument et renvoient une nouvelle fraction représentant la somme et le produit des deux fractions\n",
    "\n",
    "\n",
    "- Tester ces opérations. \n",
    "\n",
    "En bonus, pour aller plus loin : modifier le constructeur pour que les fractions soient toujours sous forme réduite. \n"
   ]
  },
  {
   "cell_type": "code",
   "execution_count": null,
   "id": "f7a4075a",
   "metadata": {},
   "outputs": [],
   "source": [
    "# Votre réponse (code) ci-dessous :\n",
    "\n",
    "\n",
    "\n",
    "\n",
    "\n",
    "\n"
   ]
  },
  {
   "cell_type": "markdown",
   "id": "a306d8ab",
   "metadata": {},
   "source": [
    "---"
   ]
  },
  {
   "cell_type": "markdown",
   "id": "8d52aa30",
   "metadata": {},
   "source": [
    "### <span style='color:Blue'> Exercice 8 - Rectangle et Héritage"
   ]
  },
  {
   "cell_type": "markdown",
   "id": "5d9aa57a",
   "metadata": {},
   "source": [
    "- Ecrire une classe **`Rectangle`** en langage Python, ayant pour attributs **`longueur`** et **`largeur`**.\n",
    "\n",
    "\n",
    "- Créer les méthodes :\n",
    "\n",
    "    -\t**`Perimetre()`** permettant de calculer le périmètre du rectangle \n",
    "    -\t**`Surface()`** permettant de calculer la surface du rectangle\n",
    "    -\t**`Estcarre()`** qui vérifie si le rectangle est un carré\n",
    "    \n",
    "\n",
    "- Créer une méthode qui, lorsque l’on veut afficher l’objet rectangle, renvoi la phrase « l’objet est un rectangle de longueur… et de largeur….. »\n",
    "\n",
    "\n",
    "- Créer une classe fille **`Parallelepipede`** héritant de la classe mère Rectangle et ayant en plus un attribut hauteur.\n",
    "\n",
    "\n",
    "- Insérer dans cette classe fille une autre méthode **`Volume()`** permettant de calculer le volume du Parallélépipède. \n"
   ]
  },
  {
   "cell_type": "code",
   "execution_count": null,
   "id": "9cb55510",
   "metadata": {},
   "outputs": [],
   "source": [
    "# Votre réponse (code) ci-dessous :\n",
    "\n",
    "\n",
    "\n",
    "\n",
    "\n",
    "\n"
   ]
  },
  {
   "cell_type": "markdown",
   "id": "f61fd072",
   "metadata": {},
   "source": [
    "---"
   ]
  },
  {
   "cell_type": "markdown",
   "id": "7358b1ca",
   "metadata": {},
   "source": [
    "| <span style='color:Blue'> L.HELIN |  | |   | |     |<span style='color:Blue'> NSI Terminale | |   | ||<span style='color:Blue'> Lycée Ozanam (Lille) & Lycée NDPO (Orchies)|\n",
    "| --- | --- |--- |--- |--- |--- | --- | --- |--- |--- | --- | --- |"
   ]
  }
 ],
 "metadata": {
  "kernelspec": {
   "display_name": "Python 3 (ipykernel)",
   "language": "python",
   "name": "python3"
  },
  "language_info": {
   "codemirror_mode": {
    "name": "ipython",
    "version": 3
   },
   "file_extension": ".py",
   "mimetype": "text/x-python",
   "name": "python",
   "nbconvert_exporter": "python",
   "pygments_lexer": "ipython3",
   "version": "3.9.7"
  }
 },
 "nbformat": 4,
 "nbformat_minor": 5
}
